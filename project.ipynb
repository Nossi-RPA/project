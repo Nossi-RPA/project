{
 "cells": [
  {
   "attachments": {},
   "cell_type": "markdown",
   "metadata": {},
   "source": [
    "목표: 팀별 상위 3명의 연봉 평균값 구하기\n",
    "1. 연도별 employee.xlsx 파일들을 xlwings를 이용하여 읽어들인다.\n",
    "2. 읽어들인 데이터를 병합하여 하나의 데이터 프레임을 생성한다.\n",
    "3. 새로운 엑셀 파일을 생성한다.\n",
    "4. 새로운 엑셀파일에서 팀별 sheet를 만들어준다.\n",
    "5. 팀별 sheet의 A1셀에 각 team 연봉 상위 3명의 연봉 합계를 적어 놓는다. (데이터프레임은 넣지 않음)\n",
    "    5-1. 팀별로 dataframe을 만들어준다.\n",
    "    5-2. 팀별로 생성된 dataframe에서 연봉 상위 3명의 연봉 합계를 구한다.\n",
    "    5-3. 값을 A1셀에 적어넣는다.\n",
    "6. result.xlsx 이름으로 저장한다."
   ]
  },
  {
   "cell_type": "code",
   "execution_count": null,
   "metadata": {},
   "outputs": [],
   "source": [
    "제출 및 기한 \n",
    "1. 장기이석x\n",
    "2. 제출방법 (오픈채팅방에 있음):  [project.ipynb, result.xlsx] => zip\n",
    "'Python을활용한업무자동화와문제해결_Knox ID_성함.zip', window 기본 압축 프로그램 사용 필!\n",
    "3. 가장 마지막에 제출한 파일로 채점\n",
    "13:00~ 16:00"
   ]
  },
  {
   "cell_type": "code",
   "execution_count": null,
   "metadata": {},
   "outputs": [],
   "source": []
  },
  {
   "attachments": {},
   "cell_type": "markdown",
   "metadata": {},
   "source": [
    "심화 목표: 연봉 실수령액(salary - 비용)을 내림차순으로 정렬하여 result sheet에 입력하기\n",
    "\n",
    "(참고할점: 이름 중복 없음.)\n",
    "\n",
    "1. 각 사원들의 구매목록중에서 support == False인 경우를 salary에서 제외 해서 연봉 실수령액을 구한다.\n",
    "2. 모든 사원의 연봉 실수령액 정보를 담은 하나의 병합된 dataframe을 만든다.\n",
    "3. 병합된 dataframe을 내림차순 정렬하여 result sheet에 입력한다.\n"
   ]
  },
  {
   "cell_type": "code",
   "execution_count": null,
   "metadata": {},
   "outputs": [],
   "source": []
  }
 ],
 "metadata": {
  "kernelspec": {
   "display_name": "Python 3",
   "language": "python",
   "name": "python3"
  },
  "language_info": {
   "codemirror_mode": {
    "name": "ipython",
    "version": 3
   },
   "file_extension": ".py",
   "mimetype": "text/x-python",
   "name": "python",
   "nbconvert_exporter": "python",
   "pygments_lexer": "ipython3",
   "version": "3.9.6"
  },
  "orig_nbformat": 4
 },
 "nbformat": 4,
 "nbformat_minor": 2
}
